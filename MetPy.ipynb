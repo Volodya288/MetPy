{
 "cells": [
  {
   "cell_type": "markdown",
   "id": "867ca61f-4f57-48a9-abba-eaf90b91f8f9",
   "metadata": {},
   "source": [
    "# Библиотека MetPy"
   ]
  },
  {
   "cell_type": "markdown",
   "id": "61fc6fa2-cb7b-4e9c-b0ee-0464ce71f77f",
   "metadata": {},
   "source": [
    "## Библиотека MetPy - это набор инструментов на Python для чтения, визуализации и выполнения вычислений с данными о погоде. MetPy преследует три основные цели: чтение и запись метеорологических данных, расчет метеорологических величин с хорошо документированными уравнениями и создавать графики издательского качества метеорологических данных.\n",
    "## Одно из наиболее значимых отличий в синтаксисе MetPy по сравнению с другими Python библиотеками, является требованием, чтобы модули были присоединены к массивам перед тем, как быть переданными в функции MetPy. MetPy требует, чтобы единицы измерения всегда были указаны. Будет безопаснее всегда использовать единицы измерения, когда это применимо, чтобы убедиться, что ваши анализы выполнены правильно. MetPy имеет встроенную поддержку чтения спутниковых файлов GINI и радаров NEXRAD. Метеорология и наука об атмосфере полностью зависят от сложных уравнений и формул. Вместо того, чтобы выяснять, как эффективно писать их на Python самостоятельно, MetPy предоставляет поддержку многих распространенных уравнений в этой области."
   ]
  },
  {
   "cell_type": "markdown",
   "id": "3c33fc73-545e-4a66-977f-e1adea278536",
   "metadata": {},
   "source": [
    "### Загрузим библиотеку MetPy"
   ]
  },
  {
   "cell_type": "code",
   "execution_count": 4,
   "id": "28a010ec-60b5-4204-a5c6-779cc09e581d",
   "metadata": {
    "scrolled": true
   },
   "outputs": [
    {
     "name": "stdout",
     "output_type": "stream",
     "text": [
      "Requirement already satisfied: metpy in c:\\users\\валерия\\appdata\\local\\programs\\python\\python312\\lib\\site-packages (1.6.2)Note: you may need to restart the kernel to use updated packages.\n",
      "\n",
      "Requirement already satisfied: matplotlib>=3.5.0 in c:\\users\\валерия\\appdata\\local\\programs\\python\\python312\\lib\\site-packages (from metpy) (3.8.4)\n",
      "Requirement already satisfied: numpy>=1.20.0 in c:\\users\\валерия\\appdata\\local\\programs\\python\\python312\\lib\\site-packages (from metpy) (1.26.4)\n",
      "Requirement already satisfied: pandas>=1.4.0 in c:\\users\\валерия\\appdata\\local\\programs\\python\\python312\\lib\\site-packages (from metpy) (2.2.2)\n",
      "Requirement already satisfied: pint>=0.17 in c:\\users\\валерия\\appdata\\local\\programs\\python\\python312\\lib\\site-packages (from metpy) (0.23)\n",
      "Requirement already satisfied: pooch>=1.2.0 in c:\\users\\валерия\\appdata\\local\\programs\\python\\python312\\lib\\site-packages (from metpy) (1.8.1)\n",
      "Requirement already satisfied: pyproj>=3.0.0 in c:\\users\\валерия\\appdata\\local\\programs\\python\\python312\\lib\\site-packages (from metpy) (3.6.1)\n",
      "Requirement already satisfied: scipy>=1.8.0 in c:\\users\\валерия\\appdata\\local\\programs\\python\\python312\\lib\\site-packages (from metpy) (1.13.0)\n",
      "Requirement already satisfied: traitlets>=5.0.5 in c:\\users\\валерия\\appdata\\local\\programs\\python\\python312\\lib\\site-packages (from metpy) (5.14.3)\n",
      "Requirement already satisfied: xarray>=0.21.0 in c:\\users\\валерия\\appdata\\local\\programs\\python\\python312\\lib\\site-packages (from metpy) (2024.3.0)\n",
      "Requirement already satisfied: contourpy>=1.0.1 in c:\\users\\валерия\\appdata\\local\\programs\\python\\python312\\lib\\site-packages (from matplotlib>=3.5.0->metpy) (1.2.1)\n",
      "Requirement already satisfied: cycler>=0.10 in c:\\users\\валерия\\appdata\\local\\programs\\python\\python312\\lib\\site-packages (from matplotlib>=3.5.0->metpy) (0.12.1)\n",
      "Requirement already satisfied: fonttools>=4.22.0 in c:\\users\\валерия\\appdata\\local\\programs\\python\\python312\\lib\\site-packages (from matplotlib>=3.5.0->metpy) (4.51.0)\n",
      "Requirement already satisfied: kiwisolver>=1.3.1 in c:\\users\\валерия\\appdata\\local\\programs\\python\\python312\\lib\\site-packages (from matplotlib>=3.5.0->metpy) (1.4.5)\n",
      "Requirement already satisfied: packaging>=20.0 in c:\\users\\валерия\\appdata\\local\\programs\\python\\python312\\lib\\site-packages (from matplotlib>=3.5.0->metpy) (24.0)\n",
      "Requirement already satisfied: pillow>=8 in c:\\users\\валерия\\appdata\\local\\programs\\python\\python312\\lib\\site-packages (from matplotlib>=3.5.0->metpy) (10.3.0)\n",
      "Requirement already satisfied: pyparsing>=2.3.1 in c:\\users\\валерия\\appdata\\local\\programs\\python\\python312\\lib\\site-packages (from matplotlib>=3.5.0->metpy) (3.1.2)\n",
      "Requirement already satisfied: python-dateutil>=2.7 in c:\\users\\валерия\\appdata\\local\\programs\\python\\python312\\lib\\site-packages (from matplotlib>=3.5.0->metpy) (2.9.0.post0)\n",
      "Requirement already satisfied: pytz>=2020.1 in c:\\users\\валерия\\appdata\\local\\programs\\python\\python312\\lib\\site-packages (from pandas>=1.4.0->metpy) (2024.1)\n",
      "Requirement already satisfied: tzdata>=2022.7 in c:\\users\\валерия\\appdata\\local\\programs\\python\\python312\\lib\\site-packages (from pandas>=1.4.0->metpy) (2024.1)\n",
      "Requirement already satisfied: typing-extensions in c:\\users\\валерия\\appdata\\local\\programs\\python\\python312\\lib\\site-packages (from pint>=0.17->metpy) (4.11.0)\n",
      "Requirement already satisfied: platformdirs>=2.5.0 in c:\\users\\валерия\\appdata\\local\\programs\\python\\python312\\lib\\site-packages (from pooch>=1.2.0->metpy) (4.2.1)\n",
      "Requirement already satisfied: requests>=2.19.0 in c:\\users\\валерия\\appdata\\local\\programs\\python\\python312\\lib\\site-packages (from pooch>=1.2.0->metpy) (2.31.0)\n",
      "Requirement already satisfied: certifi in c:\\users\\валерия\\appdata\\local\\programs\\python\\python312\\lib\\site-packages (from pyproj>=3.0.0->metpy) (2024.2.2)\n",
      "Requirement already satisfied: six>=1.5 in c:\\users\\валерия\\appdata\\local\\programs\\python\\python312\\lib\\site-packages (from python-dateutil>=2.7->matplotlib>=3.5.0->metpy) (1.16.0)\n",
      "Requirement already satisfied: charset-normalizer<4,>=2 in c:\\users\\валерия\\appdata\\local\\programs\\python\\python312\\lib\\site-packages (from requests>=2.19.0->pooch>=1.2.0->metpy) (3.3.2)\n",
      "Requirement already satisfied: idna<4,>=2.5 in c:\\users\\валерия\\appdata\\local\\programs\\python\\python312\\lib\\site-packages (from requests>=2.19.0->pooch>=1.2.0->metpy) (3.7)\n",
      "Requirement already satisfied: urllib3<3,>=1.21.1 in c:\\users\\валерия\\appdata\\local\\programs\\python\\python312\\lib\\site-packages (from requests>=2.19.0->pooch>=1.2.0->metpy) (2.2.1)\n"
     ]
    }
   ],
   "source": [
    "!pip install metpy"
   ]
  },
  {
   "cell_type": "markdown",
   "id": "4a70d6eb-5e4d-433f-bd35-007ce9c0b574",
   "metadata": {},
   "source": [
    "# Примеры использования и часть того, что умеет данная библиотека:\n",
    "Расчеты\n",
    "add_height_to_pressure - Рассчитать давление на определенной высоте выше другого уровня давления.\n",
    "density - Вычислить плотность.\n",
    "potential_temperature - Рассчитать потенциальную температуру.\n",
    "sigma_to_pressure - Рассчитать давление по сигма-значениям.\n",
    "\n",
    "Чтение данных\n",
    "parse_metar_to_dataframe - Выполнение синтаксического анализа одного отчета METAR в Pandas DataFrame.\n",
    "parse_metar_file - Синтаксический анализ текстового файла, содержащего несколько отчетов METAR и/или текстовых продуктов.\n",
    "is_precip_mode - Определить, работает ли радар NEXRAD в режиме осадков.\n",
    "add_station_lat_lon - Поиск информации о станции, чтобы добавить широту и долготу в DataFrame.\n",
    "\n",
    "Интерполяция\n",
    "natural_neighbor_to_grid - Создание интерполяции естественной окрестности заданных точек в регулярную сетку.\n",
    "inverse_distance_to_grid - Сгенерировать обратную интерполяцию расстояний заданных точек в регулярную сетку.\n",
    "interpolate_to_grid - Интерполировать заданные пары (x,y), наблюдения (z) в сетку на основе заданных параметров.\n",
    "interpolate_to_isosurface - Линейная интерполяция переменной на заданный вертикальный уровень от заданных значений."
   ]
  },
  {
   "cell_type": "markdown",
   "id": "4306257e-d592-4d63-92de-672408267c1f",
   "metadata": {},
   "source": [
    "# Пример кода:"
   ]
  },
  {
   "cell_type": "code",
   "execution_count": 9,
   "id": "aa054209-ee5d-48d3-8175-f1aad83d2322",
   "metadata": {},
   "outputs": [
    {
     "name": "stdin",
     "output_type": "stream",
     "text": [
      " 20\n",
      " 50\n"
     ]
    },
    {
     "name": "stdout",
     "output_type": "stream",
     "text": [
      "[9.270085985370088] degree_Celsius\n"
     ]
    }
   ],
   "source": [
    "import numpy as np\n",
    "from metpy.units import units\n",
    "import metpy.calc as mpcalc\n",
    "a=float(input())\n",
    "b=float(input())\n",
    "\n",
    "temperature = [a] * units.degC\n",
    "rel_humidity  = [b] * units.percent\n",
    "print(mpcalc.dewpoint_from_relative_humidity(temperature, rel_humidity))"
   ]
  },
  {
   "cell_type": "markdown",
   "id": "fd3e6df0-15c1-4d05-a41c-8ec85773ab7f",
   "metadata": {},
   "source": [
    "dewpoint_from_relative_humidity - Рассчитать точку росы окружающей среды с учетом температуры и относительной влажности воздуха."
   ]
  },
  {
   "cell_type": "markdown",
   "id": "8d4943b8-bedc-47c5-b5d6-a877500d0206",
   "metadata": {},
   "source": [
    "# Так же с помощью MetPy можно создавать метеорологические графики, например такие:"
   ]
  },
  {
   "cell_type": "markdown",
   "id": "fac2abff-8a14-4056-a488-1e8c4e74dbf2",
   "metadata": {},
   "source": [
    "![график](https://unidata.github.io/MetPy/latest/_images/startingguide-1.png)"
   ]
  },
  {
   "cell_type": "markdown",
   "id": "de7dcd06-4775-4d08-b940-f7cb14eacfdb",
   "metadata": {},
   "source": [
    "В целом это все самое основное, что умеет данная библиотека и как ее можно использовать. MetPy имеет намного больше функций, это очень практичная и нужная библиотека."
   ]
  }
 ],
 "metadata": {
  "kernelspec": {
   "display_name": "Python 3 (ipykernel)",
   "language": "python",
   "name": "python3"
  },
  "language_info": {
   "codemirror_mode": {
    "name": "ipython",
    "version": 3
   },
   "file_extension": ".py",
   "mimetype": "text/x-python",
   "name": "python",
   "nbconvert_exporter": "python",
   "pygments_lexer": "ipython3",
   "version": "3.12.3"
  }
 },
 "nbformat": 4,
 "nbformat_minor": 5
}
