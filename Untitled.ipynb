{
 "cells": [
  {
   "cell_type": "markdown",
   "id": "867ca61f-4f57-48a9-abba-eaf90b91f8f9",
   "metadata": {},
   "source": [
    "# Библиотека MetPy"
   ]
  },
  {
   "cell_type": "markdown",
   "id": "61fc6fa2-cb7b-4e9c-b0ee-0464ce71f77f",
   "metadata": {},
   "source": [
    "Установим библиотеку MetPy"
   ]
  },
  {
   "cell_type": "code",
   "execution_count": 4,
   "id": "28a010ec-60b5-4204-a5c6-779cc09e581d",
   "metadata": {},
   "outputs": [
    {
     "name": "stdout",
     "output_type": "stream",
     "text": [
      "Requirement already satisfied: metpy in c:\\users\\валерия\\appdata\\local\\programs\\python\\python312\\lib\\site-packages (1.6.2)Note: you may need to restart the kernel to use updated packages.\n",
      "\n",
      "Requirement already satisfied: matplotlib>=3.5.0 in c:\\users\\валерия\\appdata\\local\\programs\\python\\python312\\lib\\site-packages (from metpy) (3.8.4)\n",
      "Requirement already satisfied: numpy>=1.20.0 in c:\\users\\валерия\\appdata\\local\\programs\\python\\python312\\lib\\site-packages (from metpy) (1.26.4)\n",
      "Requirement already satisfied: pandas>=1.4.0 in c:\\users\\валерия\\appdata\\local\\programs\\python\\python312\\lib\\site-packages (from metpy) (2.2.2)\n",
      "Requirement already satisfied: pint>=0.17 in c:\\users\\валерия\\appdata\\local\\programs\\python\\python312\\lib\\site-packages (from metpy) (0.23)\n",
      "Requirement already satisfied: pooch>=1.2.0 in c:\\users\\валерия\\appdata\\local\\programs\\python\\python312\\lib\\site-packages (from metpy) (1.8.1)\n",
      "Requirement already satisfied: pyproj>=3.0.0 in c:\\users\\валерия\\appdata\\local\\programs\\python\\python312\\lib\\site-packages (from metpy) (3.6.1)\n",
      "Requirement already satisfied: scipy>=1.8.0 in c:\\users\\валерия\\appdata\\local\\programs\\python\\python312\\lib\\site-packages (from metpy) (1.13.0)\n",
      "Requirement already satisfied: traitlets>=5.0.5 in c:\\users\\валерия\\appdata\\local\\programs\\python\\python312\\lib\\site-packages (from metpy) (5.14.3)\n",
      "Requirement already satisfied: xarray>=0.21.0 in c:\\users\\валерия\\appdata\\local\\programs\\python\\python312\\lib\\site-packages (from metpy) (2024.3.0)\n",
      "Requirement already satisfied: contourpy>=1.0.1 in c:\\users\\валерия\\appdata\\local\\programs\\python\\python312\\lib\\site-packages (from matplotlib>=3.5.0->metpy) (1.2.1)\n",
      "Requirement already satisfied: cycler>=0.10 in c:\\users\\валерия\\appdata\\local\\programs\\python\\python312\\lib\\site-packages (from matplotlib>=3.5.0->metpy) (0.12.1)\n",
      "Requirement already satisfied: fonttools>=4.22.0 in c:\\users\\валерия\\appdata\\local\\programs\\python\\python312\\lib\\site-packages (from matplotlib>=3.5.0->metpy) (4.51.0)\n",
      "Requirement already satisfied: kiwisolver>=1.3.1 in c:\\users\\валерия\\appdata\\local\\programs\\python\\python312\\lib\\site-packages (from matplotlib>=3.5.0->metpy) (1.4.5)\n",
      "Requirement already satisfied: packaging>=20.0 in c:\\users\\валерия\\appdata\\local\\programs\\python\\python312\\lib\\site-packages (from matplotlib>=3.5.0->metpy) (24.0)\n",
      "Requirement already satisfied: pillow>=8 in c:\\users\\валерия\\appdata\\local\\programs\\python\\python312\\lib\\site-packages (from matplotlib>=3.5.0->metpy) (10.3.0)\n",
      "Requirement already satisfied: pyparsing>=2.3.1 in c:\\users\\валерия\\appdata\\local\\programs\\python\\python312\\lib\\site-packages (from matplotlib>=3.5.0->metpy) (3.1.2)\n",
      "Requirement already satisfied: python-dateutil>=2.7 in c:\\users\\валерия\\appdata\\local\\programs\\python\\python312\\lib\\site-packages (from matplotlib>=3.5.0->metpy) (2.9.0.post0)\n",
      "Requirement already satisfied: pytz>=2020.1 in c:\\users\\валерия\\appdata\\local\\programs\\python\\python312\\lib\\site-packages (from pandas>=1.4.0->metpy) (2024.1)\n",
      "Requirement already satisfied: tzdata>=2022.7 in c:\\users\\валерия\\appdata\\local\\programs\\python\\python312\\lib\\site-packages (from pandas>=1.4.0->metpy) (2024.1)\n",
      "Requirement already satisfied: typing-extensions in c:\\users\\валерия\\appdata\\local\\programs\\python\\python312\\lib\\site-packages (from pint>=0.17->metpy) (4.11.0)\n",
      "Requirement already satisfied: platformdirs>=2.5.0 in c:\\users\\валерия\\appdata\\local\\programs\\python\\python312\\lib\\site-packages (from pooch>=1.2.0->metpy) (4.2.1)\n",
      "Requirement already satisfied: requests>=2.19.0 in c:\\users\\валерия\\appdata\\local\\programs\\python\\python312\\lib\\site-packages (from pooch>=1.2.0->metpy) (2.31.0)\n",
      "Requirement already satisfied: certifi in c:\\users\\валерия\\appdata\\local\\programs\\python\\python312\\lib\\site-packages (from pyproj>=3.0.0->metpy) (2024.2.2)\n",
      "Requirement already satisfied: six>=1.5 in c:\\users\\валерия\\appdata\\local\\programs\\python\\python312\\lib\\site-packages (from python-dateutil>=2.7->matplotlib>=3.5.0->metpy) (1.16.0)\n",
      "Requirement already satisfied: charset-normalizer<4,>=2 in c:\\users\\валерия\\appdata\\local\\programs\\python\\python312\\lib\\site-packages (from requests>=2.19.0->pooch>=1.2.0->metpy) (3.3.2)\n",
      "Requirement already satisfied: idna<4,>=2.5 in c:\\users\\валерия\\appdata\\local\\programs\\python\\python312\\lib\\site-packages (from requests>=2.19.0->pooch>=1.2.0->metpy) (3.7)\n",
      "Requirement already satisfied: urllib3<3,>=1.21.1 in c:\\users\\валерия\\appdata\\local\\programs\\python\\python312\\lib\\site-packages (from requests>=2.19.0->pooch>=1.2.0->metpy) (2.2.1)\n"
     ]
    }
   ],
   "source": [
    "!pip install metpy"
   ]
  },
  {
   "cell_type": "code",
   "execution_count": 5,
   "id": "d45c10d3-1bbc-45d3-80b4-39fcd2fa55bb",
   "metadata": {},
   "outputs": [
    {
     "name": "stdout",
     "output_type": "stream",
     "text": [
      "[9.270085985370088] degree_Celsius\n"
     ]
    }
   ],
   "source": [
    "import numpy as np\n",
    "from metpy.units import units\n",
    "import metpy.calc as mpcalc\n",
    "\n",
    "temperature = [20] * units.degC\n",
    "rel_humidity  = [50] * units.percent\n",
    "print(mpcalc.dewpoint_from_relative_humidity(temperature, rel_humidity))"
   ]
  },
  {
   "cell_type": "code",
   "execution_count": 6,
   "id": "aa054209-ee5d-48d3-8175-f1aad83d2322",
   "metadata": {},
   "outputs": [
    {
     "ename": "SyntaxError",
     "evalue": "invalid syntax (940945421.py, line 1)",
     "output_type": "error",
     "traceback": [
      "\u001b[1;36m  Cell \u001b[1;32mIn[6], line 1\u001b[1;36m\u001b[0m\n\u001b[1;33m    git remote add origin https://github.com/Volodya288/MetPy.git\u001b[0m\n\u001b[1;37m        ^\u001b[0m\n\u001b[1;31mSyntaxError\u001b[0m\u001b[1;31m:\u001b[0m invalid syntax\n"
     ]
    }
   ],
   "source": []
  },
  {
   "cell_type": "code",
   "execution_count": null,
   "id": "df6722cf-cb04-4234-bf8f-0470bb278fb5",
   "metadata": {},
   "outputs": [],
   "source": []
  }
 ],
 "metadata": {
  "kernelspec": {
   "display_name": "Python 3 (ipykernel)",
   "language": "python",
   "name": "python3"
  },
  "language_info": {
   "codemirror_mode": {
    "name": "ipython",
    "version": 3
   },
   "file_extension": ".py",
   "mimetype": "text/x-python",
   "name": "python",
   "nbconvert_exporter": "python",
   "pygments_lexer": "ipython3",
   "version": "3.12.3"
  }
 },
 "nbformat": 4,
 "nbformat_minor": 5
}
